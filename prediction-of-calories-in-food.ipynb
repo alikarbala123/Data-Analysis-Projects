{
 "cells": [
  {
   "cell_type": "markdown",
   "id": "5e1ca419",
   "metadata": {
    "papermill": {
     "duration": 0.008914,
     "end_time": "2023-08-04T23:54:41.863564",
     "exception": false,
     "start_time": "2023-08-04T23:54:41.854650",
     "status": "completed"
    },
    "tags": []
   },
   "source": [
    "<H1>Analysis and prediction of calroies in food</H1>"
   ]
  },
  {
   "cell_type": "markdown",
   "id": "5493214e",
   "metadata": {
    "papermill": {
     "duration": 0.00802,
     "end_time": "2023-08-04T23:54:41.880078",
     "exception": false,
     "start_time": "2023-08-04T23:54:41.872058",
     "status": "completed"
    },
    "tags": []
   },
   "source": [
    "In this project we use **The Nutritional Content of Food** dataset. It is a comprehensive database of nutritional values for thousands of different foods. It includes information on calories, vitamins, minerals, and more. This dataset is perfect for anyone interested in the nutritional content of their food. With this dataset, you can learn about the different nutrients in your food and how they contribute to your overall health"
   ]
  },
  {
   "cell_type": "markdown",
   "id": "bf60b799",
   "metadata": {
    "papermill": {
     "duration": 0.009217,
     "end_time": "2023-08-04T23:54:41.897503",
     "exception": false,
     "start_time": "2023-08-04T23:54:41.888286",
     "status": "completed"
    },
    "tags": []
   },
   "source": [
    "\n",
    "\n",
    "  <H2>In this project we perform:</H2>\n",
    " <H3>1-Data Wrangling<p><p>      \n",
    " 2-Data Visualization and Summary<p><p>\n",
    " 3-Classification (Low Medium High) of contents in every type of food<p><p>\n",
    " 4-Correlation between food contents<p><p> \n",
    " 5-Estimation of Calories in food type knowing its contents<H3>                                                                                                        "
   ]
  },
  {
   "cell_type": "markdown",
   "id": "c1c08661",
   "metadata": {
    "papermill": {
     "duration": 0.007926,
     "end_time": "2023-08-04T23:54:41.913759",
     "exception": false,
     "start_time": "2023-08-04T23:54:41.905833",
     "status": "completed"
    },
    "tags": []
   },
   "source": [
    "<H1>1-Data Wrangling</H1>\n",
    "Information from the columns <r>GmWt_1\tGmWt_Desc1\tGmWt_2\tGmWt_Desc2 is quit not clear and the column Refuse_Pct is not useful for owr analysis. On the other hand,\n",
    "there are many missing values but after dropping we still have enough sample size.\n",
    "So we drop those columns and all missing values"
   ]
  },
  {
   "cell_type": "code",
   "execution_count": 1,
   "id": "61a0e436",
   "metadata": {
    "execution": {
     "iopub.execute_input": "2023-08-04T23:54:41.932826Z",
     "iopub.status.busy": "2023-08-04T23:54:41.931557Z",
     "iopub.status.idle": "2023-08-04T23:54:42.277322Z",
     "shell.execute_reply": "2023-08-04T23:54:42.275963Z"
    },
    "papermill": {
     "duration": 0.356446,
     "end_time": "2023-08-04T23:54:42.278433",
     "exception": true,
     "start_time": "2023-08-04T23:54:41.921987",
     "status": "failed"
    },
    "tags": []
   },
   "outputs": [
    {
     "ename": "NameError",
     "evalue": "name 'pd' is not defined",
     "output_type": "error",
     "traceback": [
      "\u001b[0;31m---------------------------------------------------------------------------\u001b[0m",
      "\u001b[0;31mNameError\u001b[0m                                 Traceback (most recent call last)",
      "Cell \u001b[0;32mIn[1], line 1\u001b[0m\n\u001b[0;32m----> 1\u001b[0m nut \u001b[38;5;241m=\u001b[39m \u001b[43mpd\u001b[49m\u001b[38;5;241m.\u001b[39mread_csv(\u001b[38;5;124m'\u001b[39m\u001b[38;5;124m/kaggle/input/the-nutritional-content-of-food-a-comprehensive/ABBREV.csv\u001b[39m\u001b[38;5;124m'\u001b[39m)\n\u001b[1;32m      3\u001b[0m nut\n",
      "\u001b[0;31mNameError\u001b[0m: name 'pd' is not defined"
     ]
    }
   ],
   "source": [
    "nut = pd.read_csv('/kaggle/input/the-nutritional-content-of-food-a-comprehensive/ABBREV.csv')\n",
    "\n",
    "nut"
   ]
  },
  {
   "cell_type": "code",
   "execution_count": null,
   "id": "1a4193be",
   "metadata": {
    "execution": {
     "iopub.execute_input": "2023-08-04T20:37:17.805675Z",
     "iopub.status.busy": "2023-08-04T20:37:17.805275Z",
     "iopub.status.idle": "2023-08-04T20:37:17.813483Z",
     "shell.execute_reply": "2023-08-04T20:37:17.812333Z",
     "shell.execute_reply.started": "2023-08-04T20:37:17.805647Z"
    },
    "papermill": {
     "duration": null,
     "end_time": null,
     "exception": null,
     "start_time": null,
     "status": "pending"
    },
    "tags": []
   },
   "outputs": [],
   "source": [
    "nut.columns"
   ]
  },
  {
   "cell_type": "code",
   "execution_count": null,
   "id": "101dfe20",
   "metadata": {
    "execution": {
     "iopub.execute_input": "2023-08-04T20:37:17.825731Z",
     "iopub.status.busy": "2023-08-04T20:37:17.824866Z",
     "iopub.status.idle": "2023-08-04T20:37:17.864444Z",
     "shell.execute_reply": "2023-08-04T20:37:17.863682Z",
     "shell.execute_reply.started": "2023-08-04T20:37:17.825697Z"
    },
    "papermill": {
     "duration": null,
     "end_time": null,
     "exception": null,
     "start_time": null,
     "status": "pending"
    },
    "tags": []
   },
   "outputs": [],
   "source": [
    "missing_data = nut.isnull()\n",
    "missing_data.head()"
   ]
  },
  {
   "cell_type": "code",
   "execution_count": null,
   "id": "bfa4c0fc",
   "metadata": {
    "execution": {
     "iopub.execute_input": "2023-08-04T21:29:01.306186Z",
     "iopub.status.busy": "2023-08-04T21:29:01.305774Z",
     "iopub.status.idle": "2023-08-04T21:29:01.361020Z",
     "shell.execute_reply": "2023-08-04T21:29:01.359828Z",
     "shell.execute_reply.started": "2023-08-04T21:29:01.306125Z"
    },
    "papermill": {
     "duration": null,
     "end_time": null,
     "exception": null,
     "start_time": null,
     "status": "pending"
    },
    "tags": []
   },
   "outputs": [],
   "source": [
    "for column in missing_data.columns.values.tolist():\n",
    "    print(column,missing_data[column].value_counts(),\"\")\n",
    "  "
   ]
  },
  {
   "cell_type": "code",
   "execution_count": null,
   "id": "48bad4df",
   "metadata": {
    "execution": {
     "iopub.execute_input": "2023-08-04T20:37:18.084251Z",
     "iopub.status.busy": "2023-08-04T20:37:18.083820Z",
     "iopub.status.idle": "2023-08-04T20:37:18.133462Z",
     "shell.execute_reply": "2023-08-04T20:37:18.132207Z",
     "shell.execute_reply.started": "2023-08-04T20:37:18.084209Z"
    },
    "papermill": {
     "duration": null,
     "end_time": null,
     "exception": null,
     "start_time": null,
     "status": "pending"
    },
    "tags": []
   },
   "outputs": [],
   "source": [
    "nut_1 = nut.drop(['GmWt_1','GmWt_Desc1','GmWt_2','GmWt_Desc2','Refuse_Pct'],axis = 1)\n",
    "nut_1 = nut_1.dropna()\n",
    "nut_1"
   ]
  },
  {
   "cell_type": "markdown",
   "id": "6a2cb4e1",
   "metadata": {
    "papermill": {
     "duration": null,
     "end_time": null,
     "exception": null,
     "start_time": null,
     "status": "pending"
    },
    "tags": []
   },
   "source": [
    "<H3>For now, we will exclude all food with missing data as well as useless features</H3>"
   ]
  },
  {
   "cell_type": "code",
   "execution_count": null,
   "id": "438af105",
   "metadata": {
    "_kg_hide-output": false,
    "execution": {
     "iopub.execute_input": "2023-08-04T21:28:19.680998Z",
     "iopub.status.busy": "2023-08-04T21:28:19.680169Z",
     "iopub.status.idle": "2023-08-04T21:28:19.730304Z",
     "shell.execute_reply": "2023-08-04T21:28:19.729326Z",
     "shell.execute_reply.started": "2023-08-04T21:28:19.680954Z"
    },
    "papermill": {
     "duration": null,
     "end_time": null,
     "exception": null,
     "start_time": null,
     "status": "pending"
    },
    "tags": []
   },
   "outputs": [],
   "source": [
    "missing_data_1 = nut_1.isnull()\n",
    "missing_data_1.head()\n",
    "for column in missing_data_1.columns.values.tolist():\n",
    "    print(column,missing_data_1[column].value_counts(),\"\")\n"
   ]
  },
  {
   "cell_type": "markdown",
   "id": "533d87a2",
   "metadata": {
    "papermill": {
     "duration": null,
     "end_time": null,
     "exception": null,
     "start_time": null,
     "status": "pending"
    },
    "tags": []
   },
   "source": [
    "<H1>2-Data Visualization and Summary</H1>"
   ]
  },
  {
   "cell_type": "markdown",
   "id": "37f9c197",
   "metadata": {
    "papermill": {
     "duration": null,
     "end_time": null,
     "exception": null,
     "start_time": null,
     "status": "pending"
    },
    "tags": []
   },
   "source": [
    "We perform a summary statistics and a nice plotly figure using boxplots for every nutrient across food types...check it"
   ]
  },
  {
   "cell_type": "code",
   "execution_count": null,
   "id": "23052c36",
   "metadata": {
    "execution": {
     "iopub.execute_input": "2023-08-04T22:30:16.018833Z",
     "iopub.status.busy": "2023-08-04T22:30:16.018375Z",
     "iopub.status.idle": "2023-08-04T22:30:16.024918Z",
     "shell.execute_reply": "2023-08-04T22:30:16.024044Z",
     "shell.execute_reply.started": "2023-08-04T22:30:16.018795Z"
    },
    "papermill": {
     "duration": null,
     "end_time": null,
     "exception": null,
     "start_time": null,
     "status": "pending"
    },
    "tags": []
   },
   "outputs": [],
   "source": [
    "columns = nut_1.drop(['index','NDB_No','Shrt_Desc','Energ_Kcal'],axis = 1)"
   ]
  },
  {
   "cell_type": "code",
   "execution_count": null,
   "id": "331e3236",
   "metadata": {
    "execution": {
     "iopub.execute_input": "2023-08-04T22:30:17.493849Z",
     "iopub.status.busy": "2023-08-04T22:30:17.493446Z",
     "iopub.status.idle": "2023-08-04T22:30:17.632206Z",
     "shell.execute_reply": "2023-08-04T22:30:17.631188Z",
     "shell.execute_reply.started": "2023-08-04T22:30:17.493815Z"
    },
    "papermill": {
     "duration": null,
     "end_time": null,
     "exception": null,
     "start_time": null,
     "status": "pending"
    },
    "tags": []
   },
   "outputs": [],
   "source": [
    "contents_summary = columns.describe()\n",
    "contents_summary"
   ]
  },
  {
   "cell_type": "code",
   "execution_count": null,
   "id": "152ed38a",
   "metadata": {
    "execution": {
     "iopub.execute_input": "2023-08-04T22:31:01.627813Z",
     "iopub.status.busy": "2023-08-04T22:31:01.627431Z",
     "iopub.status.idle": "2023-08-04T22:31:01.679122Z",
     "shell.execute_reply": "2023-08-04T22:31:01.678266Z",
     "shell.execute_reply.started": "2023-08-04T22:31:01.627782Z"
    },
    "papermill": {
     "duration": null,
     "end_time": null,
     "exception": null,
     "start_time": null,
     "status": "pending"
    },
    "tags": []
   },
   "outputs": [],
   "source": [
    "import pandas as pd\n",
    "import plotly.graph_objects as go\n",
    "\n",
    "\n",
    "# Create box plots using Plotly\n",
    "fig = go.Figure()\n",
    "\n",
    "for column in columns:\n",
    "    fig.add_trace(go.Box(y=columns[column], name=column))\n",
    "\n",
    "fig.update_layout(\n",
    "    title=\"Distribution of food types across each Nutrient\",\n",
    "    yaxis_title=\"Values (each in its unit)\",\n",
    "    xaxis_title=\"Nutrients\"\n",
    ")\n",
    "\n",
    "fig.show()"
   ]
  },
  {
   "cell_type": "markdown",
   "id": "26f17690",
   "metadata": {
    "papermill": {
     "duration": null,
     "end_time": null,
     "exception": null,
     "start_time": null,
     "status": "pending"
    },
    "tags": []
   },
   "source": [
    "<H1>Classification (Low Medium High) of contents in every type of food</H1>"
   ]
  },
  {
   "cell_type": "markdown",
   "id": "2c17fdc0",
   "metadata": {
    "papermill": {
     "duration": null,
     "end_time": null,
     "exception": null,
     "start_time": null,
     "status": "pending"
    },
    "tags": []
   },
   "source": [
    "Regarding the amazing classification models, sometimes naive classification is useful.\n",
    "\n",
    "We can classify for public the contents of each type of food in three categories, low medium high.\n",
    "\n",
    "the idea is based on quartiles, i.e, we consider that quantity:\n",
    "\n",
    "1.Lower than the 1st quartile is low\n",
    "\n",
    "2.Between 1st and 3rd quartile is medium\n",
    "\n",
    "3.Higher than the 3rd quartile is High\n"
   ]
  },
  {
   "cell_type": "code",
   "execution_count": null,
   "id": "5b0cbf75",
   "metadata": {
    "execution": {
     "iopub.execute_input": "2023-08-04T22:31:14.011017Z",
     "iopub.status.busy": "2023-08-04T22:31:14.010639Z",
     "iopub.status.idle": "2023-08-04T22:31:19.520033Z",
     "shell.execute_reply": "2023-08-04T22:31:19.519024Z",
     "shell.execute_reply.started": "2023-08-04T22:31:14.010988Z"
    },
    "papermill": {
     "duration": null,
     "end_time": null,
     "exception": null,
     "start_time": null,
     "status": "pending"
    },
    "tags": []
   },
   "outputs": [],
   "source": [
    "data = columns\n",
    "\n",
    "\n",
    "# Calculate the quartiles for each variable\n",
    "quartiles = data.quantile([0.25, 0.5, 0.75])\n",
    "\n",
    "# Function to classify row values based on quartiles\n",
    "def classify_row(row, quartiles):\n",
    "    labels = []\n",
    "    for column in row.index:\n",
    "        q1 = quartiles.loc[0.25, column]\n",
    "        q3 = quartiles.loc[0.75, column]\n",
    "        if row[column] < q1:\n",
    "            labels.append(\"Low\")\n",
    "        elif q1 <= row[column] <= q3:\n",
    "            labels.append(\"Medium\")\n",
    "        else:\n",
    "            labels.append(\"High\")\n",
    "    return pd.Series(labels, index=row.index)\n",
    "\n",
    "# Classify rows for each column\n",
    "classifications = data.apply(classify_row, axis=1, args=(quartiles,))\n",
    "\n",
    "# Concatenate the classifications with the original data\n",
    "for column in classifications.columns:\n",
    "    if column not in data.columns:\n",
    "        columns[column] = classifications[column]\n",
    "\n",
    "\n"
   ]
  },
  {
   "cell_type": "code",
   "execution_count": null,
   "id": "5f522d9a",
   "metadata": {
    "execution": {
     "iopub.execute_input": "2023-08-04T22:31:19.522202Z",
     "iopub.status.busy": "2023-08-04T22:31:19.521824Z",
     "iopub.status.idle": "2023-08-04T22:31:19.549952Z",
     "shell.execute_reply": "2023-08-04T22:31:19.548703Z",
     "shell.execute_reply.started": "2023-08-04T22:31:19.522165Z"
    },
    "papermill": {
     "duration": null,
     "end_time": null,
     "exception": null,
     "start_time": null,
     "status": "pending"
    },
    "tags": []
   },
   "outputs": [],
   "source": [
    "quartiles"
   ]
  },
  {
   "cell_type": "code",
   "execution_count": null,
   "id": "99dfdc99",
   "metadata": {
    "execution": {
     "iopub.execute_input": "2023-08-04T22:31:23.116318Z",
     "iopub.status.busy": "2023-08-04T22:31:23.115930Z",
     "iopub.status.idle": "2023-08-04T22:31:23.123964Z",
     "shell.execute_reply": "2023-08-04T22:31:23.122674Z",
     "shell.execute_reply.started": "2023-08-04T22:31:23.116287Z"
    },
    "papermill": {
     "duration": null,
     "end_time": null,
     "exception": null,
     "start_time": null,
     "status": "pending"
    },
    "tags": []
   },
   "outputs": [],
   "source": [
    "classifications.columns"
   ]
  },
  {
   "cell_type": "code",
   "execution_count": null,
   "id": "fdd55bcf",
   "metadata": {
    "execution": {
     "iopub.execute_input": "2023-08-04T22:31:25.418761Z",
     "iopub.status.busy": "2023-08-04T22:31:25.418396Z",
     "iopub.status.idle": "2023-08-04T22:31:25.452199Z",
     "shell.execute_reply": "2023-08-04T22:31:25.451221Z",
     "shell.execute_reply.started": "2023-08-04T22:31:25.418730Z"
    },
    "papermill": {
     "duration": null,
     "end_time": null,
     "exception": null,
     "start_time": null,
     "status": "pending"
    },
    "tags": []
   },
   "outputs": [],
   "source": [
    "classifications"
   ]
  },
  {
   "cell_type": "code",
   "execution_count": null,
   "id": "4f858c1a",
   "metadata": {
    "execution": {
     "iopub.execute_input": "2023-08-04T22:31:27.998721Z",
     "iopub.status.busy": "2023-08-04T22:31:27.998354Z",
     "iopub.status.idle": "2023-08-04T22:31:28.007153Z",
     "shell.execute_reply": "2023-08-04T22:31:28.006210Z",
     "shell.execute_reply.started": "2023-08-04T22:31:27.998691Z"
    },
    "papermill": {
     "duration": null,
     "end_time": null,
     "exception": null,
     "start_time": null,
     "status": "pending"
    },
    "tags": []
   },
   "outputs": [],
   "source": [
    "classifications = pd.merge(nut_1['Shrt_Desc'],classifications,left_index=True, right_index=True)"
   ]
  },
  {
   "cell_type": "code",
   "execution_count": null,
   "id": "e576f94d",
   "metadata": {
    "execution": {
     "iopub.execute_input": "2023-08-04T22:31:35.215178Z",
     "iopub.status.busy": "2023-08-04T22:31:35.214768Z",
     "iopub.status.idle": "2023-08-04T22:31:35.240526Z",
     "shell.execute_reply": "2023-08-04T22:31:35.239353Z",
     "shell.execute_reply.started": "2023-08-04T22:31:35.215122Z"
    },
    "papermill": {
     "duration": null,
     "end_time": null,
     "exception": null,
     "start_time": null,
     "status": "pending"
    },
    "tags": []
   },
   "outputs": [],
   "source": [
    "classifications.tail()"
   ]
  },
  {
   "cell_type": "markdown",
   "id": "acd032a6",
   "metadata": {
    "papermill": {
     "duration": null,
     "end_time": null,
     "exception": null,
     "start_time": null,
     "status": "pending"
    },
    "tags": []
   },
   "source": [
    "<H4>Check all types of food by one of the three categories by using this function</H4>"
   ]
  },
  {
   "cell_type": "code",
   "execution_count": null,
   "id": "25fef582",
   "metadata": {
    "execution": {
     "iopub.execute_input": "2023-08-04T22:31:42.745235Z",
     "iopub.status.busy": "2023-08-04T22:31:42.744837Z",
     "iopub.status.idle": "2023-08-04T22:31:42.750539Z",
     "shell.execute_reply": "2023-08-04T22:31:42.749404Z",
     "shell.execute_reply.started": "2023-08-04T22:31:42.745201Z"
    },
    "papermill": {
     "duration": null,
     "end_time": null,
     "exception": null,
     "start_time": null,
     "status": "pending"
    },
    "tags": []
   },
   "outputs": [],
   "source": [
    "def food_types_cat (nutrient,cat):\n",
    "    z = pd.DataFrame(classifications[['Shrt_Desc',nutrient]][classifications[nutrient] == cat])\n",
    "    return z"
   ]
  },
  {
   "cell_type": "code",
   "execution_count": null,
   "id": "9d1848a8",
   "metadata": {
    "execution": {
     "iopub.execute_input": "2023-08-04T22:31:44.313285Z",
     "iopub.status.busy": "2023-08-04T22:31:44.312882Z",
     "iopub.status.idle": "2023-08-04T22:31:44.330028Z",
     "shell.execute_reply": "2023-08-04T22:31:44.328722Z",
     "shell.execute_reply.started": "2023-08-04T22:31:44.313249Z"
    },
    "papermill": {
     "duration": null,
     "end_time": null,
     "exception": null,
     "start_time": null,
     "status": "pending"
    },
    "tags": []
   },
   "outputs": [],
   "source": [
    "food_types_cat('Cholestrl_(mg)','High')"
   ]
  },
  {
   "cell_type": "markdown",
   "id": "d3b89ad4",
   "metadata": {
    "papermill": {
     "duration": null,
     "end_time": null,
     "exception": null,
     "start_time": null,
     "status": "pending"
    },
    "tags": []
   },
   "source": [
    "This cocludes the classification devision...check the general guide lines of nutrients in food to see if this classification fit well"
   ]
  },
  {
   "cell_type": "markdown",
   "id": "2168633c",
   "metadata": {
    "papermill": {
     "duration": null,
     "end_time": null,
     "exception": null,
     "start_time": null,
     "status": "pending"
    },
    "tags": []
   },
   "source": [
    "<H1>4-Correlation between food contents</H1>"
   ]
  },
  {
   "cell_type": "markdown",
   "id": "b26108f6",
   "metadata": {
    "papermill": {
     "duration": null,
     "end_time": null,
     "exception": null,
     "start_time": null,
     "status": "pending"
    },
    "tags": []
   },
   "source": [
    "There are many different ways to show the correlation between nutrients, this simple informative way show for every selected nutrient a list of all nutrients correlation values with the selected one and their p-values.\n",
    "\n",
    "note: Pearson correlation is used based on large sample hypothesis, we assume normal distribution...you can check normality it if you like"
   ]
  },
  {
   "cell_type": "code",
   "execution_count": null,
   "id": "833ab9cc",
   "metadata": {
    "execution": {
     "iopub.execute_input": "2023-08-04T22:38:33.242780Z",
     "iopub.status.busy": "2023-08-04T22:38:33.242363Z",
     "iopub.status.idle": "2023-08-04T22:38:33.753572Z",
     "shell.execute_reply": "2023-08-04T22:38:33.752293Z",
     "shell.execute_reply.started": "2023-08-04T22:38:33.242745Z"
    },
    "papermill": {
     "duration": null,
     "end_time": null,
     "exception": null,
     "start_time": null,
     "status": "pending"
    },
    "tags": []
   },
   "outputs": [],
   "source": [
    "from scipy import stats\n",
    "correlation_list = []\n",
    "\n",
    "columns = nut_1.drop(['index','NDB_No','Shrt_Desc','Energ_Kcal'],axis = 1)\n",
    "\n",
    "for i in range(45):\n",
    "    for j in range(0,45):\n",
    "        var1 = columns.iloc[:,i]\n",
    "        var2 = columns.iloc[:,j]\n",
    "        \n",
    "        correlation, p_value = stats.pearsonr(var1,var2)\n",
    "        correlation_list.append((var1.name, var2.name, correlation,p_value))\n",
    "\n",
    "# Create a new DataFrame to store the correlation results\n",
    "correlation_df = pd.DataFrame(correlation_list, columns=['Variable 1', 'Variable 2', 'Correlation','p_value'])\n",
    "\n",
    "# Display the correlation DataFrame\n",
    "correlation_df[correlation_df['Variable 1'] == 'Water_(g)']"
   ]
  },
  {
   "cell_type": "markdown",
   "id": "0bc90f63",
   "metadata": {
    "papermill": {
     "duration": null,
     "end_time": null,
     "exception": null,
     "start_time": null,
     "status": "pending"
    },
    "tags": []
   },
   "source": [
    "Check the nutrient you want by modifying the nutrient name in the code"
   ]
  },
  {
   "cell_type": "markdown",
   "id": "32691b36",
   "metadata": {
    "papermill": {
     "duration": null,
     "end_time": null,
     "exception": null,
     "start_time": null,
     "status": "pending"
    },
    "tags": []
   },
   "source": [
    "<H1>5-Estimation of Calories in food type knowing its contents</H1>"
   ]
  },
  {
   "cell_type": "markdown",
   "id": "b205740c",
   "metadata": {
    "papermill": {
     "duration": null,
     "end_time": null,
     "exception": null,
     "start_time": null,
     "status": "pending"
    },
    "tags": []
   },
   "source": [
    "In this devision we will estimate the Calories in Kcal in every type of food based on the contents:\n",
    "\n",
    "* Water\n",
    "* Protein\n",
    "* Lipid\n",
    "* Carbohydrate\n",
    "* Fiber\n",
    "* Sugar\n",
    "\n",
    "Many choices are for models, here the estimation is done by **XGBRegressor**"
   ]
  },
  {
   "cell_type": "code",
   "execution_count": null,
   "id": "ba191051",
   "metadata": {
    "execution": {
     "iopub.execute_input": "2023-08-04T20:37:25.179197Z",
     "iopub.status.busy": "2023-08-04T20:37:25.178886Z",
     "iopub.status.idle": "2023-08-04T20:37:25.201842Z",
     "shell.execute_reply": "2023-08-04T20:37:25.201030Z",
     "shell.execute_reply.started": "2023-08-04T20:37:25.179171Z"
    },
    "papermill": {
     "duration": null,
     "end_time": null,
     "exception": null,
     "start_time": null,
     "status": "pending"
    },
    "tags": []
   },
   "outputs": [],
   "source": [
    "nut_measure = nut[['Shrt_Desc', 'Water_(g)', 'Energ_Kcal',\n",
    "       'Protein_(g)', 'Lipid_Tot_(g)', 'Ash_(g)', 'Carbohydrt_(g)',\n",
    "       'Fiber_TD_(g)', 'Sugar_Tot_(g)']]\n",
    "nut_measure"
   ]
  },
  {
   "cell_type": "code",
   "execution_count": null,
   "id": "a833a3b3",
   "metadata": {
    "execution": {
     "iopub.execute_input": "2023-08-04T20:37:25.203721Z",
     "iopub.status.busy": "2023-08-04T20:37:25.203355Z",
     "iopub.status.idle": "2023-08-04T20:37:25.220812Z",
     "shell.execute_reply": "2023-08-04T20:37:25.219797Z",
     "shell.execute_reply.started": "2023-08-04T20:37:25.203691Z"
    },
    "papermill": {
     "duration": null,
     "end_time": null,
     "exception": null,
     "start_time": null,
     "status": "pending"
    },
    "tags": []
   },
   "outputs": [],
   "source": [
    "missing_data_5 = nut_measure.isnull()\n",
    "missing_data_5.head()\n",
    "for column in missing_data_5.columns.values.tolist():\n",
    "    print(column)\n",
    "    print (missing_data_5[column].value_counts())\n",
    "    print(\"\")"
   ]
  },
  {
   "cell_type": "code",
   "execution_count": null,
   "id": "a6eb958a",
   "metadata": {
    "execution": {
     "iopub.execute_input": "2023-08-04T20:37:25.222394Z",
     "iopub.status.busy": "2023-08-04T20:37:25.222004Z",
     "iopub.status.idle": "2023-08-04T20:37:25.230165Z",
     "shell.execute_reply": "2023-08-04T20:37:25.229059Z",
     "shell.execute_reply.started": "2023-08-04T20:37:25.222366Z"
    },
    "papermill": {
     "duration": null,
     "end_time": null,
     "exception": null,
     "start_time": null,
     "status": "pending"
    },
    "tags": []
   },
   "outputs": [],
   "source": [
    "nut_measure = nut_measure.dropna()"
   ]
  },
  {
   "cell_type": "code",
   "execution_count": null,
   "id": "5f8df288",
   "metadata": {
    "execution": {
     "iopub.execute_input": "2023-08-04T20:37:25.231808Z",
     "iopub.status.busy": "2023-08-04T20:37:25.231408Z",
     "iopub.status.idle": "2023-08-04T20:37:25.255806Z",
     "shell.execute_reply": "2023-08-04T20:37:25.254622Z",
     "shell.execute_reply.started": "2023-08-04T20:37:25.231766Z"
    },
    "papermill": {
     "duration": null,
     "end_time": null,
     "exception": null,
     "start_time": null,
     "status": "pending"
    },
    "tags": []
   },
   "outputs": [],
   "source": [
    "nut_measure"
   ]
  },
  {
   "cell_type": "markdown",
   "id": "6866d663",
   "metadata": {
    "papermill": {
     "duration": null,
     "end_time": null,
     "exception": null,
     "start_time": null,
     "status": "pending"
    },
    "tags": []
   },
   "source": [
    "Here we assign X as the predictor and y as the target"
   ]
  },
  {
   "cell_type": "code",
   "execution_count": null,
   "id": "e9403ba5",
   "metadata": {
    "execution": {
     "iopub.execute_input": "2023-08-04T20:37:25.261678Z",
     "iopub.status.busy": "2023-08-04T20:37:25.260867Z",
     "iopub.status.idle": "2023-08-04T20:37:25.267704Z",
     "shell.execute_reply": "2023-08-04T20:37:25.266883Z",
     "shell.execute_reply.started": "2023-08-04T20:37:25.261620Z"
    },
    "papermill": {
     "duration": null,
     "end_time": null,
     "exception": null,
     "start_time": null,
     "status": "pending"
    },
    "tags": []
   },
   "outputs": [],
   "source": [
    "y = nut_measure['Energ_Kcal']\n",
    "X = nut_measure.drop(columns=['Energ_Kcal','Shrt_Desc'])"
   ]
  },
  {
   "cell_type": "markdown",
   "id": "e311cc11",
   "metadata": {
    "papermill": {
     "duration": null,
     "end_time": null,
     "exception": null,
     "start_time": null,
     "status": "pending"
    },
    "tags": []
   },
   "source": [
    "The needed Libraries "
   ]
  },
  {
   "cell_type": "code",
   "execution_count": null,
   "id": "e63a0a9e",
   "metadata": {
    "execution": {
     "iopub.execute_input": "2023-08-04T20:37:25.269458Z",
     "iopub.status.busy": "2023-08-04T20:37:25.268923Z",
     "iopub.status.idle": "2023-08-04T20:37:25.428409Z",
     "shell.execute_reply": "2023-08-04T20:37:25.427221Z",
     "shell.execute_reply.started": "2023-08-04T20:37:25.269429Z"
    },
    "papermill": {
     "duration": null,
     "end_time": null,
     "exception": null,
     "start_time": null,
     "status": "pending"
    },
    "tags": []
   },
   "outputs": [],
   "source": [
    "from sklearn.model_selection import train_test_split\n",
    "from sklearn.model_selection import cross_val_score\n",
    "from xgboost import XGBRegressor\n"
   ]
  },
  {
   "cell_type": "markdown",
   "id": "a560f3e1",
   "metadata": {
    "papermill": {
     "duration": null,
     "end_time": null,
     "exception": null,
     "start_time": null,
     "status": "pending"
    },
    "tags": []
   },
   "source": [
    "Splitting the data"
   ]
  },
  {
   "cell_type": "code",
   "execution_count": null,
   "id": "7136b3f2",
   "metadata": {
    "papermill": {
     "duration": null,
     "end_time": null,
     "exception": null,
     "start_time": null,
     "status": "pending"
    },
    "tags": []
   },
   "outputs": [],
   "source": [
    "X_train, X_valid, y_train, y_valid = train_test_split(X, y, train_size=0.8, test_size=0.2,\n",
    "                                                      random_state=0)"
   ]
  },
  {
   "cell_type": "markdown",
   "id": "26b64f67",
   "metadata": {
    "papermill": {
     "duration": null,
     "end_time": null,
     "exception": null,
     "start_time": null,
     "status": "pending"
    },
    "tags": []
   },
   "source": [
    "This function takes as input the number of trees in XGBRegressor and the learning rate as well as stopping rounds and return the predictions"
   ]
  },
  {
   "cell_type": "code",
   "execution_count": null,
   "id": "83a593f5",
   "metadata": {
    "execution": {
     "iopub.execute_input": "2023-08-04T23:20:54.615484Z",
     "iopub.status.busy": "2023-08-04T23:20:54.614656Z",
     "iopub.status.idle": "2023-08-04T23:20:54.621063Z",
     "shell.execute_reply": "2023-08-04T23:20:54.619863Z",
     "shell.execute_reply.started": "2023-08-04T23:20:54.615449Z"
    },
    "papermill": {
     "duration": null,
     "end_time": null,
     "exception": null,
     "start_time": null,
     "status": "pending"
    },
    "tags": []
   },
   "outputs": [],
   "source": [
    "def my_model(n,l,s):\n",
    "    z= XGBRegressor(n_estimators=n, learning_rate=l)\n",
    "    z.fit(X_train, y_train, \n",
    "             early_stopping_rounds=s, \n",
    "             eval_set=[(X_valid, y_valid)], \n",
    "             verbose=False)\n",
    "    predictions = z.predict(X_valid)\n",
    "    return z\n"
   ]
  },
  {
   "cell_type": "code",
   "execution_count": null,
   "id": "6c48173d",
   "metadata": {
    "execution": {
     "iopub.execute_input": "2023-08-04T23:20:33.320815Z",
     "iopub.status.busy": "2023-08-04T23:20:33.320388Z",
     "iopub.status.idle": "2023-08-04T23:20:54.613260Z",
     "shell.execute_reply": "2023-08-04T23:20:54.612310Z",
     "shell.execute_reply.started": "2023-08-04T23:20:33.320782Z"
    },
    "papermill": {
     "duration": null,
     "end_time": null,
     "exception": null,
     "start_time": null,
     "status": "pending"
    },
    "tags": []
   },
   "outputs": [],
   "source": [
    "m_1 = my_model(1000,0.05,5)\n",
    "scores = -1 * cross_val_score(m_1, X, y,\n",
    "                              cv=5,\n",
    "                              scoring='neg_mean_absolute_error')\n",
    "\n",
    "print(\"Average MAE score:\", scores.mean())"
   ]
  },
  {
   "cell_type": "markdown",
   "id": "e213efc1",
   "metadata": {
    "papermill": {
     "duration": null,
     "end_time": null,
     "exception": null,
     "start_time": null,
     "status": "pending"
    },
    "tags": []
   },
   "source": [
    "You can change parameters and check the accuracy...try it your self...may be you will find better model\n"
   ]
  },
  {
   "cell_type": "markdown",
   "id": "32903629",
   "metadata": {
    "execution": {
     "iopub.execute_input": "2023-08-04T23:23:17.477004Z",
     "iopub.status.busy": "2023-08-04T23:23:17.476086Z",
     "iopub.status.idle": "2023-08-04T23:23:17.482905Z",
     "shell.execute_reply": "2023-08-04T23:23:17.481488Z",
     "shell.execute_reply.started": "2023-08-04T23:23:17.476965Z"
    },
    "papermill": {
     "duration": null,
     "end_time": null,
     "exception": null,
     "start_time": null,
     "status": "pending"
    },
    "tags": []
   },
   "source": [
    "<H3>This concludes the project</H3>"
   ]
  }
 ],
 "metadata": {
  "kernelspec": {
   "display_name": "Python 3",
   "language": "python",
   "name": "python3"
  },
  "language_info": {
   "codemirror_mode": {
    "name": "ipython",
    "version": 3
   },
   "file_extension": ".py",
   "mimetype": "text/x-python",
   "name": "python",
   "nbconvert_exporter": "python",
   "pygments_lexer": "ipython3",
   "version": "3.10.12"
  },
  "papermill": {
   "default_parameters": {},
   "duration": 11.093047,
   "end_time": "2023-08-04T23:54:43.107330",
   "environment_variables": {},
   "exception": true,
   "input_path": "__notebook__.ipynb",
   "output_path": "__notebook__.ipynb",
   "parameters": {},
   "start_time": "2023-08-04T23:54:32.014283",
   "version": "2.4.0"
  }
 },
 "nbformat": 4,
 "nbformat_minor": 5
}
